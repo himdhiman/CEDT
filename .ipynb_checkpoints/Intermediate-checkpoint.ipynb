{
 "cells": [
  {
   "cell_type": "markdown",
   "metadata": {},
   "source": [
    "# Question 1\n",
    "\n",
    "Generate random number and plot data in jupyter notebook."
   ]
  },
  {
   "cell_type": "code",
   "execution_count": 10,
   "metadata": {},
   "outputs": [
    {
     "data": {
      "image/png": "[encoded data removed]",
      "text/plain": [
       "<Figure size 432x288 with 1 Axes>"
      ]
     },
     "metadata": {
      "needs_background": "light"
     },
     "output_type": "display_data"
    }
   ],
   "source": [
    "import numpy as np\n",
    "import matplotlib.pyplot as plt\n",
    "x = np.random.randint(0, 10, 5)\n",
    "y = np.random.randint(0, 10, 5)\n",
    "plt.scatter(x,y)\n",
    "plt.show()"
   ]
  },
  {
   "cell_type": "markdown",
   "metadata": {},
   "source": [
    "# Question 2\n",
    "\n",
    " Reading the data from arduino and plotting it (real time). Also print results of some mathematical operations performed on the received data, e.g. print the derivative of the curve, to know the rate of change in real time"
   ]
  },
  {
   "cell_type": "code",
   "execution_count": 6,
   "metadata": {},
   "outputs": [
    {
     "data": {
      "text/html": [
       "<div>\n",
       "<style scoped>\n",
       "    .dataframe tbody tr th:only-of-type {\n",
       "        vertical-align: middle;\n",
       "    }\n",
       "\n",
       "    .dataframe tbody tr th {\n",
       "        vertical-align: top;\n",
       "    }\n",
       "\n",
       "    .dataframe thead th {\n",
       "        text-align: right;\n",
       "    }\n",
       "</style>\n",
       "<table border=\"1\" class=\"dataframe\">\n",
       "  <thead>\n",
       "    <tr style=\"text-align: right;\">\n",
       "      <th></th>\n",
       "      <th>32.502345269453031</th>\n",
       "      <th>31.70700584656992</th>\n",
       "    </tr>\n",
       "  </thead>\n",
       "  <tbody>\n",
       "    <tr>\n",
       "      <th>0</th>\n",
       "      <td>53.426804</td>\n",
       "      <td>68.777596</td>\n",
       "    </tr>\n",
       "    <tr>\n",
       "      <th>1</th>\n",
       "      <td>61.530358</td>\n",
       "      <td>62.562382</td>\n",
       "    </tr>\n",
       "    <tr>\n",
       "      <th>2</th>\n",
       "      <td>47.475640</td>\n",
       "      <td>71.546632</td>\n",
       "    </tr>\n",
       "    <tr>\n",
       "      <th>3</th>\n",
       "      <td>59.813208</td>\n",
       "      <td>87.230925</td>\n",
       "    </tr>\n",
       "    <tr>\n",
       "      <th>4</th>\n",
       "      <td>55.142188</td>\n",
       "      <td>78.211518</td>\n",
       "    </tr>\n",
       "  </tbody>\n",
       "</table>\n",
       "</div>"
      ],
      "text/plain": [
       "   32.502345269453031  31.70700584656992\n",
       "0           53.426804          68.777596\n",
       "1           61.530358          62.562382\n",
       "2           47.475640          71.546632\n",
       "3           59.813208          87.230925\n",
       "4           55.142188          78.211518"
      ]
     },
     "execution_count": 6,
     "metadata": {},
     "output_type": "execute_result"
    }
   ],
   "source": [
    "import pandas as pd\n",
    "data = pd.read_csv('data.csv', delimiter = ',')\n",
    "data[:5]"
   ]
  },
  {
   "cell_type": "markdown",
   "metadata": {},
   "source": [
    "# Question 3\n",
    "\n",
    "Storing the data received, in a csv file format when the program is executed.  "
   ]
  },
  {
   "cell_type": "code",
   "execution_count": 11,
   "metadata": {},
   "outputs": [],
   "source": [
    "dataframe = pd.DataFrame(data)\n",
    "dataframe.to_csv('results.csv')"
   ]
  },
  {
   "cell_type": "markdown",
   "metadata": {},
   "source": [
    "# Question 4\n",
    "\n",
    "Open any already-stored csv file for comparison with the present data."
   ]
  },
  {
   "cell_type": "code",
   "execution_count": 12,
   "metadata": {},
   "outputs": [],
   "source": [
    "dataset1 = pd.read_csv('data.csv', delimiter = \",\")\n",
    "dataset2 = pd.read_csv('results.csv', delimiter = \",\")"
   ]
  },
  {
   "cell_type": "code",
   "execution_count": 21,
   "metadata": {},
   "outputs": [
    {
     "data": {
      "text/plain": [
       "True"
      ]
     },
     "execution_count": 21,
     "metadata": {},
     "output_type": "execute_result"
    }
   ],
   "source": [
    "dataset1.columns[1] == dataset2.columns[2]"
   ]
  },
  {
   "cell_type": "markdown",
   "metadata": {},
   "source": [
    "# Question 5\n",
    "\n",
    "Perform monte carlo simulation to find the approximate value of pi. Output window should look somewhat like what is shown below while running the simulation. "
   ]
  },
  {
   "cell_type": "code",
   "execution_count": 4,
   "metadata": {},
   "outputs": [],
   "source": [
    "import numpy as np\n",
    "import matplotlib.pyplot as plt\n",
    "from matplotlib import rcParams\n",
    "    \n",
    "from numpy.random import random\n",
    "from numpy import pi\n",
    "\n",
    "\n",
    "def MonteCarloPi(maxIterations):\n",
    "    squareX = [1,-1,-1,1,1]\n",
    "    squareY = [1,1,-1,-1,1]\n",
    "    circleX,circleY = [],[]\n",
    "    \n",
    "    for i in range(361):\n",
    "        circleX.append(np.cos(np.pi*i/180))\n",
    "        circleY.append(np.sin(np.pi*i/180))\n",
    "\n",
    "    insideX,insideY,outsideX,outsideY,Iteration,CurrentPi = [],[],[],[],[],[]\n",
    "    insideCounter = 0\n",
    "\n",
    "    for i in range(maxIterations):\n",
    "        x = 2*(random()-0.5)\n",
    "        y = 2*(random()-0.5)\n",
    "        r = np.sqrt(x**2+y**2)\n",
    "        Iteration.append(i)\n",
    "        if r <= 1:\n",
    "            insideCounter +=1\n",
    "            insideX.append(x)\n",
    "            insideY.append(y)\n",
    "        else:\n",
    "            outsideX.append(x)\n",
    "            outsideY.append(y)\n",
    "        CurrentPi.append(4*insideCounter/(i+1))\n",
    "\n",
    "    piValue = 4*insideCounter / maxIterations\n",
    "    piError = round(100*((piValue-pi)/pi),4)\n",
    "\n",
    "    rcParams['figure.figsize'] = 5, 5\n",
    "    plt.plot(squareX,squareY,color='#000000')\n",
    "    plt.plot(circleX,circleY,color='#0000CC')\n",
    "    plt.scatter(insideX,insideY,color='#00CC00',marker=\".\")\n",
    "    plt.scatter(outsideX,outsideY,color='#CC0000',marker=\".\")\n",
    "    plt.xlabel('x')\n",
    "    plt.ylabel('y')\n",
    "    plt.show()\n",
    "    \n",
    "\n",
    "    print('\\n' + f'Pi is approximately {piValue}\\n')\n",
    "    print(f'This is {piError}% off the true value.\\n')"
   ]
  },
  {
   "cell_type": "code",
   "execution_count": 5,
   "metadata": {},
   "outputs": [
    {
     "data": {
      "image/png": "[encoded data removed]",
      "text/plain": [
       "<Figure size 360x360 with 1 Axes>"
      ]
     },
     "metadata": {
      "needs_background": "light"
     },
     "output_type": "display_data"
    },
    {
     "name": "stdout",
     "output_type": "stream",
     "text": [
      "\n",
      "Pi is approximately 3.14012\n",
      "\n",
      "This is -0.0469% off the true value.\n",
      "\n"
     ]
    }
   ],
   "source": [
    "MonteCarloPi(200000)"
   ]
  },
  {
   "cell_type": "code",
   "execution_count": null,
   "metadata": {},
   "outputs": [],
   "source": []
  }
 ],
 "metadata": {
  "kernelspec": {
   "display_name": "Python 3",
   "language": "python",
   "name": "python3"
  },
  "language_info": {
   "codemirror_mode": {
    "name": "ipython",
    "version": 3
   },
   "file_extension": ".py",
   "mimetype": "text/x-python",
   "name": "python",
   "nbconvert_exporter": "python",
   "pygments_lexer": "ipython3",
   "version": "3.7.4"
  }
 },
 "nbformat": 4,
 "nbformat_minor": 2
}
